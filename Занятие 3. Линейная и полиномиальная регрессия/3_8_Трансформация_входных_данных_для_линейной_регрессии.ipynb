{
  "metadata": {
    "kernelspec": {
      "name": "python",
      "display_name": "Python (Pyodide)",
      "language": "python"
    },
    "language_info": {
      "codemirror_mode": {
        "name": "python",
        "version": 3
      },
      "file_extension": ".py",
      "mimetype": "text/x-python",
      "name": "python",
      "nbconvert_exporter": "python",
      "pygments_lexer": "ipython3",
      "version": "3.8"
    },
    "colab": {
      "provenance": []
    }
  },
  "nbformat_minor": 4,
  "nbformat": 4,
  "cells": [
    {
      "cell_type": "markdown",
      "source": "# Трансформация входных данных для линейной регрессии\n\nВ алгоритмах машинного обучения и анализа данных часто встречаются требования к входным данным\n\n* распределение данных (имеется в виду вероятностное распределение – например, гауссовское или пуассоновское)\n* масштаб данных\n\nПеред аналитиком часто стоит задача трансформации (преобразования) входных данных таким образом, чтобы удовлетворить условиям алгоритма. Игнорирование требований к входным данным приводит к некорректным выводам, это основной принцип ML (и не только ML): **garbage in - garbage out**.\n\n**Важно**: трансформации можно применять как к фичам, так и к целевым переменным",
      "metadata": {
        "id": "YSamv1LE6xlh"
      }
    },
    {
      "cell_type": "markdown",
      "source": "В задачах линейной регрессии (и других линейных моделях, [например, SVM](https://ru.wikipedia.org/wiki/Метод_опорных_векторов ), о котором мы узнаем далее в курсе) такие трансформации особенно важны – чтобы линейная регрессия хорошо работала должны выполняться следующие требования:\n\n* остатки регрессии (величины $y_i-\\hat{y_i}$) должны иметь нормальное (гауссово) распределение (это можно проверить, например, построив гистограмму, как мы учились в модуле про matplotlib)\n* все фичи должны быть примерно в одном масшабе\n\nПри подготовке данных для обучения линейной регрессии применяются следyющие приемы: масштабирование и нормализация.\n\nСначала давайте проверим, как преобразование входных данных может повлиять на метрики",
      "metadata": {
        "id": "iBHX82pG6xlj"
      }
    },
    {
      "cell_type": "code",
      "source": "import numpy as np\nfrom matplotlib import pyplot as  plt\n\n#%matplotlib inline\n\nx = np.linspace(1, 10, num=10).reshape(-1,1)\ny = [\n    1.5,\n    2.5,\n    3,\n    4.5,\n    12,\n    6.7,\n    7,\n    8.5,\n    14,\n    7\n]\n\nplt.scatter(x, y)\nplt.show()",
      "metadata": {
        "id": "V-KycBq76xlk",
        "outputId": "49709e49-25d8-4c25-8823-9ff392d9c6e6",
        "trusted": true
      },
      "outputs": [
        {
          "output_type": "display_data",
          "data": {
            "text/plain": "<Figure size 640x480 with 1 Axes>",
            "image/png": "[encoded data removed]"
          },
          "metadata": {}
        }
      ],
      "execution_count": 4
    },
    {
      "cell_type": "markdown",
      "source": "Видно, что данные вроде бы линейные, но есть выбросы\n\nОбучим линейную регрессию на этом датасете и посмотрим, какой получился MSE",
      "metadata": {
        "id": "HwWzSRqJ6xll"
      }
    },
    {
      "cell_type": "code",
      "source": "from sklearn.linear_model import LinearRegression\nfrom sklearn.metrics import r2_score, mean_squared_error\n\nreg = LinearRegression().fit(x, y)\ny_pred = reg.predict(x)\n\nprint(mean_squared_error(y, y_pred))",
      "metadata": {
        "id": "x1eNICnb6xll",
        "outputId": "939a05a0-f2f9-4565-ea7e-cd0b450f09fd",
        "trusted": true
      },
      "outputs": [
        {
          "name": "stdout",
          "text": "7.071587878787878\n",
          "output_type": "stream"
        }
      ],
      "execution_count": 7
    },
    {
      "cell_type": "code",
      "source": "y_transformed = np.log(y)\n\nplt.scatter(x, y_transformed)\nplt.show()",
      "metadata": {
        "id": "653wPa2L6xll",
        "outputId": "d324fa76-ce81-41fd-9d4d-fcc317a637f1"
      },
      "outputs": [
        {
          "output_type": "display_data",
          "data": {
            "image/png": "[encoded data removed]",
            "text/plain": [
              "<Figure size 432x288 with 1 Axes>"
            ]
          },
          "metadata": {
            "tags": [],
            "needs_background": "light"
          }
        }
      ],
      "execution_count": null
    },
    {
      "cell_type": "markdown",
      "source": "Мы применили трансформацию нашей целевой переменной - число визуально кажется, будто точки стали плотнее друг к другу, логарифмирование сгладило выбросы. Давайте проверим нашу интуицию по изменению метрики.",
      "metadata": {
        "id": "BKlJSHjW6xlm"
      }
    },
    {
      "cell_type": "code",
      "source": "reg = LinearRegression().fit(x, y_transformed)\n\ny_pred = reg.predict(x)\n\nprint(mean_squared_error(y_transformed, y_pred))",
      "metadata": {
        "id": "pEhZ21Gw6xln",
        "outputId": "64dad5e8-49ae-44ca-b785-9769ab702d7c"
      },
      "outputs": [
        {
          "output_type": "stream",
          "text": [
            "0.14648845203903693\n"
          ],
          "name": "stdout"
        }
      ],
      "execution_count": null
    },
    {
      "cell_type": "markdown",
      "source": "Это чисто инженерные приёмы первичной обработки данных, для борьбы с большими по модулю значениями, которые являются выбросами обычно используют\n\n* логарифмирование np.log\n* извлечение квадратного корня np.sqrt\n\nОба этих преобразования являются *монотонными*, т.е. они меняют абсолютные значения, но сохраняют порядок величин. Пример немонотонного преобразования для  величины $x$ – функция $\\sin x$",
      "metadata": {
        "id": "95Sm4Rx-6xln"
      }
    },
    {
      "cell_type": "markdown",
      "source": "### z-score\n\nБолее интересный метод - это Standart Scaling или Z-score normalization. Это преобразование позволяет \"сгладить\" данные, избавить их от выбросов. Для этого инструмента [есть реализация в sklearn](https://scikit-learn.org/stable/modules/generated/sklearn.preprocessing.StandardScaler.html)",
      "metadata": {
        "id": "iYzp04rF6xlo"
      }
    },
    {
      "cell_type": "code",
      "source": "import numpy as np\nimport pandas as pd\nfrom sklearn.preprocessing import StandardScaler\n\nraw_data = np.array([\n    1.,  3.,  2.,  4.,  2., 10.,  2.,  5.,  2.,  2.,  1.,  7.,  5.,  2.,  5., 16., 10.,  3.,24.],\n    dtype=np.float32\n)\n\nprint(\"Сырой датасет: %s\" % raw_data)\n\ntransformed_data = StandardScaler().fit_transform(raw_data.reshape(-1, 1)).reshape(-1)\nprint(\"z-transform датасет: %s\" % transformed_data)",
      "metadata": {
        "id": "457qCgjz6xlo",
        "outputId": "10c43459-1d79-415a-ac0d-f72726b2bf5d"
      },
      "outputs": [
        {
          "output_type": "stream",
          "text": [
            "Сырой датасет: [ 1.  3.  2.  4.  2. 10.  2.  5.  2.  2.  1.  7.  5.  2.  5. 16. 10.  3.\n",
            " 24.]\n",
            "z-transform датасет: [-0.79860216 -0.4497874  -0.6241948  -0.27538007 -0.6241948   0.7710641\n",
            " -0.6241948  -0.10097268 -0.6241948  -0.6241948  -0.79860216  0.24784204\n",
            " -0.10097268 -0.6241948  -0.10097268  1.8175083   0.7710641  -0.4497874\n",
            "  3.2127674 ]\n"
          ],
          "name": "stdout"
        }
      ],
      "execution_count": null
    },
    {
      "cell_type": "markdown",
      "source": "Мы видим, что в результате $z$-трансформации данные сместились в сторону нуля (появились как отрицательные значения, так и положительные) а так же уменьшился масштаб – данные похожи на нормальное (гауссовское) распределение)",
      "metadata": {
        "id": "z4hh_huj6xlo"
      }
    },
    {
      "cell_type": "markdown",
      "source": "### min-max normalization\n\nДругой распространённый метод называется MinMax Scaling. Этот метод переносит все точки на отрезок [0;1]\n$$\nX_{scaled} = \\frac{X - X_{\\min}}{X_{\\max} - X_{\\min}}\n$$",
      "metadata": {
        "id": "JTfe3_V06xlo"
      }
    },
    {
      "cell_type": "code",
      "source": "from sklearn.preprocessing import MinMaxScaler\n\n\nprint(\"Сырой датасет: %s\" % raw_data)\n\ntransformed_data = MinMaxScaler().fit_transform(raw_data.reshape(-1, 1)).reshape(-1)\n\nprint(\"Min-Max scale датасет: %s\" % transformed_data)",
      "metadata": {
        "id": "K2Ad2_MW6xlo",
        "outputId": "509ab8a2-4b40-4734-b904-e20866553a80"
      },
      "outputs": [
        {
          "output_type": "stream",
          "text": [
            "Сырой датасет: [ 1.  3.  2.  4.  2. 10.  2.  5.  2.  2.  1.  7.  5.  2.  5. 16. 10.  3.\n",
            " 24.]\n",
            "Min-Max scale датасет: [0.         0.08695652 0.04347826 0.13043478 0.04347826 0.39130437\n",
            " 0.04347826 0.17391305 0.04347826 0.04347826 0.         0.2608696\n",
            " 0.17391305 0.04347826 0.17391305 0.65217394 0.39130437 0.08695652\n",
            " 1.        ]\n"
          ],
          "name": "stdout"
        }
      ],
      "execution_count": null
    },
    {
      "cell_type": "markdown",
      "source": "Эта трансформация оцень полезна для визуализации данных – позволяет \"ужать\" точки в единичный отрезок и компактно отобразить их на графике. Полезна тем, что сохраняет относительные расстояния между точками (т.е. структуру датасета)",
      "metadata": {
        "id": "-kuXb7Gg6xlp"
      }
    },
    {
      "cell_type": "markdown",
      "source": "Как применять эти знания на практике? Используйте следующий алгоритм:\n\n* построить модель\n* вычислить метрику качества\n* выполнить преобразования\n* снова вычислить метрику качества\n* если метрика качества выросла, применить найденную трансформацию ко входным данным перед тем, как подавать на вход модели",
      "metadata": {
        "id": "9q-KS64U6xlp"
      }
    }
  ]
}