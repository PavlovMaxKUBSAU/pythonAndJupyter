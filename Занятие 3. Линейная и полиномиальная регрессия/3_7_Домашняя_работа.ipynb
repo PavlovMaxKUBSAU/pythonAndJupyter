{
  "metadata": {
    "kernelspec": {
      "name": "python",
      "display_name": "Python (Pyodide)",
      "language": "python"
    },
    "language_info": {
      "codemirror_mode": {
        "name": "python",
        "version": 3
      },
      "file_extension": ".py",
      "mimetype": "text/x-python",
      "name": "python",
      "nbconvert_exporter": "python",
      "pygments_lexer": "ipython3",
      "version": "3.8"
    },
    "colab": {
      "provenance": []
    }
  },
  "nbformat_minor": 4,
  "nbformat": 4,
  "cells": [
    {
      "cell_type": "markdown",
      "source": "### Домашняя работа\n\nУ вас есть два набора точек – истинные значения *y_true* и предсказанные значения *y_pred*\n\n* для каждой точки из *y_true* постройте величину ошибки $e = y-\\hat{y}$ – это называется **остатки регрессии**\n* возведите ошибки в квадрат $e^2$\n* постройте график ошибок – зависимость $e^2$ от $e$",
      "metadata": {
        "id": "Kj4RcGot8CZV"
      }
    },
    {
      "cell_type": "code",
      "source": "import numpy as np\n\ny_pred_ = np.array([30.0, 25.03, 30.57, 28.61, 27.94, 25.26, 23.0, 19.54, 11.52, 18.92, 19.0, 21.59, 20.91, 19.55, 19.28, 19.3, 20.53, 16.91, 16.18, 18.41, 12.52, 17.67, 15.83, 13.81, 15.68, 13.39, 15.46, 14.71, 19.55, 20.88, 11.46, 18.06, 8.81, 14.28, 13.71, 23.81, 22.34, 23.11, 22.92, 31.36])\ny_true_ = np.array([24.0, 21.6, 34.7, 33.4, 36.2, 28.7, 22.9, 27.1, 16.5, 18.9, 15.0, 18.9, 21.7, 20.4, 18.2, 19.9, 23.1, 17.5, 20.2, 18.2, 13.6, 19.6, 15.2, 14.5, 15.6, 13.9, 16.6, 14.8, 18.4, 21.0, 12.7, 14.5, 13.2, 13.1, 13.5, 18.9, 20.0, 21.0, 24.7, 30.8])",
      "metadata": {
        "id": "YS5vFeVt8CZb",
        "trusted": true
      },
      "outputs": [],
      "execution_count": 24
    },
    {
      "cell_type": "markdown",
      "source": "График должен получится вот такой:\n\n![experiment_errors](https://sun9-50.userapi.com/c856120/v856120638/1e9be0/3m-6-p2kZfk.jpg)",
      "metadata": {
        "id": "Msa1g5qv8CZq"
      }
    },
    {
      "cell_type": "code",
      "source": "residue = y_true_-y_pred_\nresidue",
      "metadata": {
        "id": "rkZUITeD8CZt",
        "trusted": true
      },
      "outputs": [
        {
          "execution_count": 55,
          "output_type": "execute_result",
          "data": {
            "text/plain": "array([-6.  , -3.43,  4.13,  4.79,  8.26,  3.44, -0.1 ,  7.56,  4.98,\n       -0.02, -4.  , -2.69,  0.79,  0.85, -1.08,  0.6 ,  2.57,  0.59,\n        4.02, -0.21,  1.08,  1.93, -0.63,  0.69, -0.08,  0.51,  1.14,\n        0.09, -1.15,  0.12,  1.24, -3.56,  4.39, -1.18, -0.21, -4.91,\n       -2.34, -2.11,  1.78, -0.56])"
          },
          "metadata": {}
        }
      ],
      "execution_count": 55
    },
    {
      "cell_type": "code",
      "source": "residue2 = [x * x for x in residue]\nprint(residue2)",
      "metadata": {
        "trusted": true
      },
      "outputs": [
        {
          "name": "stdout",
          "text": "[36.0, 11.764899999999997, 17.05690000000002, 22.94409999999999, 68.22760000000002, 11.833599999999985, 0.010000000000000285, 57.15360000000003, 24.800400000000003, 0.0004000000000001251, 16.0, 7.236100000000007, 0.6240999999999987, 0.7224999999999964, 1.166400000000004, 0.35999999999999743, 6.6049000000000015, 0.34809999999999985, 16.160399999999996, 0.04410000000000036, 1.1664, 3.724899999999999, 0.396900000000001, 0.4760999999999993, 0.006400000000000012, 0.2600999999999998, 1.2996000000000012, 0.008099999999999975, 1.322500000000005, 0.014400000000000239, 1.537599999999996, 12.673599999999992, 19.27209999999999, 1.3923999999999994, 0.04410000000000036, 24.1081, 5.475599999999999, 4.452099999999998, 3.1683999999999912, 0.31359999999999855]\n",
          "output_type": "stream"
        }
      ],
      "execution_count": 65
    },
    {
      "cell_type": "code",
      "source": "from matplotlib import pyplot as plt\n#%matplotlib inline\nmatplotlib.rc(\"font\", size=12) # шрифт подписей графиков\n#from sklearn.linear_model import LinearRegression\n\nfig = plt.figure(figsize=(5, 4)) # создаем картинку\nax = plt.axes()\n\n# помещаем точки на график\nax.scatter(residue, residue2, s=15)\nax.set_xlabel(\"e\")\nax.set_ylabel(\"e^2\")\n\nplt.show()",
      "metadata": {
        "trusted": true
      },
      "outputs": [
        {
          "output_type": "display_data",
          "data": {
            "text/plain": "<Figure size 500x400 with 1 Axes>",
            "image/png": "[encoded data removed]"
          },
          "metadata": {}
        }
      ],
      "execution_count": 64
    },
    {
      "cell_type": "code",
      "source": "",
      "metadata": {
        "trusted": true
      },
      "outputs": [],
      "execution_count": null
    }
  ]
}