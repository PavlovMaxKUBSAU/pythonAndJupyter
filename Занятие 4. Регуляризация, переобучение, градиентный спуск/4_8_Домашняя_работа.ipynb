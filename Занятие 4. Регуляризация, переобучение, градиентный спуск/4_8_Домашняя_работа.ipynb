{
  "metadata": {
    "kernelspec": {
      "name": "python",
      "display_name": "Python (Pyodide)",
      "language": "python"
    },
    "language_info": {
      "codemirror_mode": {
        "name": "python",
        "version": 3
      },
      "file_extension": ".py",
      "mimetype": "text/x-python",
      "name": "python",
      "nbconvert_exporter": "python",
      "pygments_lexer": "ipython3",
      "version": "3.8"
    },
    "celltoolbar": "Slideshow",
    "colab": {
      "provenance": []
    }
  },
  "nbformat_minor": 4,
  "nbformat": 4,
  "cells": [
    {
      "cell_type": "markdown",
      "source": "### Домашняя работа\n\n**Задание среднего уровня** Примените градиентный спуск к задаче прогнозирования цен на недвижимость в Бостоне. Какого качества на валидации удалось достичь по r2-score? Сколько итераций  понадобилось?",
      "metadata": {
        "id": "90H1_YdZMMbo"
      }
    },
    {
      "cell_type": "code",
      "source": "from sklearn.metrics import r2_score, mean_squared_error\nfrom sklearn.linear_model import LinearRegression\nfrom sklearn.model_selection import train_test_split\nfrom sklearn.preprocessing import StandardScaler\nfrom sklearn.linear_model import SGDRegressor\nfrom scipy.spatial import distance\nimport matplotlib.pyplot as plt\nimport pandas as pd\nimport numpy as np\n\n#эти 4 строки взяты из предложения по исправлению ошибки загрузки boston\ndata_url = \"http://lib.stat.cmu.edu/datasets/boston\"\nraw_df = pd.read_csv(data_url, sep=\"\\s+\", skiprows=22, header=None)\ndata = np.hstack([raw_df.values[::2, :], raw_df.values[1::2, :2]])\ntarget = raw_df.values[1::2, 2]\n#data = np.linspace(1,10,num=20).reshape(-1, 1)\n#target = np.array(\n#    [1., 2.,  3., 3.5,  4., 3.,  2., 1.3, 0., 0.8,  2., 3.,  5., 4.,  2., 1.2,  0., 1., 3. ,5.],\n#    dtype=np.float32\n#)\n\nX_train, X_valid, y_train, y_valid = train_test_split(data, target, test_size=0.2, random_state=42)\n\n\nsgd_regressor = SGDRegressor(learning_rate='constant', eta0=0.015, fit_intercept=True, random_state=42)\nw_current, epsilon = np.random.random(2), 0.0001\nweight_evolution, mse_evolution = [], [] # изменения весов и ошибка на валидации\nfor step in list(range(800)):\n    sgd_regressor = sgd_regressor.partial_fit(X_train, y_train)\n    weight_evolution.append(distance.euclidean(w_current, sgd_regressor.coef_))\n    if weight_evolution[-1]<epsilon:\n        print(\"Итарации остановлены на шаге %d\" % step); break\n    r2 = r2_score(y_valid, sgd_regressor.predict(X_valid))\n    mse_evolution.append(mse)\n    w_current = sgd_regressor.coef_.copy()\n\nprint(\"Лучший r2 = %.2f\" % r2)\nplt.plot(range(step), mse_evolution)\n",
      "metadata": {
        "id": "0q8EbVXRMMbp",
        "trusted": true
      },
      "outputs": [],
      "execution_count": null
    },
    {
      "cell_type": "markdown",
      "source": "Вы можете начать использовать градиентный спуск уже сейчас! Если вы хотите глубже понять механизмы, которые использует этот приём - добро пожаловать в урок 5, где мы поговорим о математике, которая стоит за градиентным спуском и даже реализуем градиентный спуск на языке Python.",
      "metadata": {
        "id": "ZadrTkGLMMbs"
      }
    }
  ]
}