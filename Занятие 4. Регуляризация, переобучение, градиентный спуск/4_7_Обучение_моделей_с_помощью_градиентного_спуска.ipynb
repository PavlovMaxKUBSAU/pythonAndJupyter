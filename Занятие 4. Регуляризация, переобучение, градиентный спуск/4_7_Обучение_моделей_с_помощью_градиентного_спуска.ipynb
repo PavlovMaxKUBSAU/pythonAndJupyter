{
  "metadata": {
    "kernelspec": {
      "name": "python",
      "display_name": "Python (Pyodide)",
      "language": "python"
    },
    "language_info": {
      "codemirror_mode": {
        "name": "python",
        "version": 3
      },
      "file_extension": ".py",
      "mimetype": "text/x-python",
      "name": "python",
      "nbconvert_exporter": "python",
      "pygments_lexer": "ipython3",
      "version": "3.8"
    },
    "celltoolbar": "Slideshow",
    "colab": {
      "provenance": []
    }
  },
  "nbformat_minor": 4,
  "nbformat": 4,
  "cells": [
    {
      "cell_type": "markdown",
      "source": "# Обучение моделей с помощью градиентного спуска\n\nМы помним, что в случае многомерной линейной регрессии (когда количество фичей $m$) аналитическое решение имеет вид\n$$\n\\overline{w} = \\left(X^TX\\right)^{-1}X^T\\overline{y}\n$$\n\nГде $X$ - т.н. матрица объекты-признаки размерности *количество объектов* x *количество признаков*.\n\nУ аналитического решения есть ряд недостатков\n* Вычислительная сложность из-за матричного перемножения $O(n^3)$, где $n$ - размерность матрицы. При увеличении размерности матрицы в 10 раз сложность вычислений увеличивается в $10^3=1000$ раз\n* Неустойчивость вычислений - пытаемся найти обратную матрицу, которая может не существовать, в этом случае в алгоритме нахождения обратной матрицы возникает деление на ноль",
      "metadata": {
        "id": "v-NXKgCJvkYV"
      }
    },
    {
      "cell_type": "markdown",
      "source": "С неустойчивостью вычислений, например, связано предупреждение **LinAlgWarning:** которое мы видели в первом уроке. Пример такой матрицы:\n$$\nX^TX =\n\\left[\n\\begin{array}{cc}\n2 & 1 \\\\\n4 & 2\n\\end{array}\n\\right]\n$$\n\nДопустим, хотим вычислить коэффициенты аналитически. Если попытаемся найти обратную матрицу $(X^TX)^{-1}$, мы получим сообщение об ошибке:",
      "metadata": {
        "id": "VjJxr0QCvkYW"
      }
    },
    {
      "cell_type": "code",
      "source": "import numpy as np\n# матрица из примера\nX = np.array([[2,1],[4,2]])\n# пытаемся найти обратную\nnp.linalg.inv(X)",
      "metadata": {
        "id": "McVDD1yWvkYW",
        "outputId": "595f6167-00d2-45d2-f0bb-667598924a2d",
        "trusted": true
      },
      "outputs": [
        {
          "execution_count": 1,
          "output_type": "execute_result",
          "data": {
            "text/plain": "array([[nan, nan],\n       [nan, nan]])"
          },
          "metadata": {}
        }
      ],
      "execution_count": 1
    },
    {
      "cell_type": "markdown",
      "source": "Это очень печально - значит, мы не всегда можем применять аналитическую формулу $\\overline{w} = \\left(X^TX\\right)^{-1}X^T\\overline{y}$ для нахождения коэффициентов $\\overline{w}$ Как же быть, если задачу решать все равно надо?\n\nРешение этих проблем нашли математики - давайте вычислять коэффициенты линейной регрессии не аналитически, а с помощью приближённых численных методов. Тогда не надо будет перемножать матрицы или находить обратные матрицы. Самый простой и эффективный из этих методов называется методом *градиентного спуска*. Суть метода состоит в обновлении параметров модели $w$ по маленьким шажкам (вместо того, чтобы находить их сразу) - это и есть градиентный спуск.\n\nКаждый такой шажок назвается \"итерация\".",
      "metadata": {
        "id": "PAEufTEvvkYa"
      }
    },
    {
      "cell_type": "markdown",
      "source": "Мы знаем, что коэффициенты обучаются при помощи минимизации функции ошибок:\n\n$$\nL(y,w) = \\sum_{i=1}^{N}\\left(y_i - \\hat{y_i}\\right)^2\n$$\n\nЭта функция квадратичная - следовательно, имеет форму параболы. Минимум параболы соответствует минимуму ошибки - давайте как-то понемногу \"подкручивать\" параметры, чтобы по шажкам спуститься в точку, где ошибка будет минимальной - в этой точке и находятся параметры $w$, которые мы ищем. Правила обновления весов должны быть очень простыми и не содержать матричных перемножений\n\n![grad_descent_single_measure](https://248006.selcdn.ru/public/Data-science-3/img/grad_descent_single_measure.png)",
      "metadata": {
        "id": "pwUflWYSvkYb"
      }
    },
    {
      "cell_type": "markdown",
      "source": "В трёхмерном случае картинка более красивая - мы движемся как бы ландшафту и хотим найти самую нижнюю точку на этом ландшафте:\n\n![grad_descent_single_measure](https://248006.selcdn.ru/public/Data-science-3/img/grad_descent_multi_measure.png)",
      "metadata": {
        "id": "PzLwNIs1vkYb"
      }
    },
    {
      "cell_type": "markdown",
      "source": "В библиотеке sklearn уже есть класс, в котором реализована логика такого путешествия - это класс `sklearn.linear_model.SGDRegressor`. Давайте посмотрим, как он работает на примере нашей выборки из прошлого урока - начнём с загрузки исходных данных",
      "metadata": {
        "id": "VhC7RxlZvkYc"
      }
    },
    {
      "cell_type": "code",
      "source": "import numpy as np\nimport pandas as pd\nimport matplotlib.pyplot as plt\n# для регрессии\nfrom sklearn.model_selection import train_test_split\nfrom sklearn.linear_model import SGDRegressor\nfrom sklearn.metrics import mean_squared_error\nfrom scipy.spatial import distance\n%matplotlib inline\n\n#data = pd.read_csv('non_linear.csv', sep=',')\n#data = data[(data.x_train > 1) & (data.x_train < 5)].copy()\n#X = data['x_train'].values.reshape(-1, 1) # превращаем X из простого массива в вектор-столбец\n#y = data['y_train'].values\n\nX = np.linspace(1,10,num=20).reshape(-1, 1)\ny = np.array(\n    [1., 2.,  3., 3.5,  4., 3.,  2., 1.3, 0., 0.8,  2., 3.,  5., 4.,  2., 1.2,  0., 1., 3. ,5.],\n    dtype=np.float32\n)\n\n# разбиваем на трейн и валидацию\nX_train, X_valid, y_train, y_valid = train_test_split(X, y, test_size=0.2, random_state=10)",
      "metadata": {
        "id": "hPr44wuWvkYc",
        "outputId": "ffd1c2a9-1d45-4f23-f131-abd919e5fd4d",
        "trusted": true
      },
      "outputs": [],
      "execution_count": 11
    },
    {
      "cell_type": "markdown",
      "source": "Запустим шажки градиентного спуска (те самые итерации). Для градиентного спуска мы используем готовый класс SGDRegressor: https://scikit-learn.org/stable/modules/generated/sklearn.linear_model.SGDRegressor.html . Класс принимает следующие параметры\n\n\n* learning_rate='constant' используем самую простую модификацию спуска из нескольких возможных (см. документацию)\n* eta0 - шаг градиентного спуска, в формуле мы его обозначали буквой $\\alpha$\n* fit_intercept - чтобы обучить коэффициент при \"свободном члене\" линейной регрессии (см. \"Линейная регрессия. Часть 1\")\n* random_state - этот параметр встречали ранее в этом модуле, он нужен для воспроизводимости вычислений\n\nФункция `partial_fit()`, которую мы вызываем в коде, делает одну итерацию градиентного спуска.\n\nПо оси $oX$ отложим количество итераций, а по оси $oY$ - значение метрики качества *MSE*, которое получили на  валидации",
      "metadata": {
        "id": "YrdX2IbEvkYe"
      }
    },
    {
      "cell_type": "code",
      "source": "sgd_regressor = SGDRegressor(learning_rate='constant', eta0=0.009, fit_intercept=True, random_state=42)\nw_current, epsilon = np.random.random(2), 0.0001\nweight_evolution, mse_evolution = [], [] # изменения весов и ошибка на валидации\nfor step in list(range(800)):\n    sgd_regressor = sgd_regressor.partial_fit(X_train, y_train)\n    weight_evolution.append(distance.euclidean(w_current, sgd_regressor.coef_))\n    if weight_evolution[-1]<epsilon:\n        print(\"Итарации остановлены на шаге %d\" % step); break\n    mse_evolution.append(mean_squared_error(y_valid, sgd_regressor.predict(X_valid)))\n    w_current = sgd_regressor.coef_.copy()\nplt.plot(range(step), mse_evolution)",
      "metadata": {
        "id": "PNsIQyJBvkYf",
        "outputId": "424dc5a9-02f7-4bb8-c3a2-6eef417d7862",
        "trusted": true
      },
      "outputs": [],
      "execution_count": null
    },
    {
      "cell_type": "markdown",
      "source": "**Практическое задание** очевидно, что чем больше шаг градиентного спуска (параметр *eta0* класса *SGDRegressor*), тем быстрее мы придём к оптимальным значениям. Используя код выше, поиграйтесь с параметром *eta0* и добейтесь , чтобы градиентный спуск закончился быстрее, чем за 200 шагов.\n\nСколько шагов у вас получилось? Какое качество *MSE* у Вашего решения?",
      "metadata": {
        "id": "Nvnk5rjfvkYh"
      }
    },
    {
      "cell_type": "code",
      "source": "# -- ВАШ КОД ТУТ\nimport numpy as np\nimport pandas as pd\nimport matplotlib.pyplot as plt\nfrom sklearn.model_selection import train_test_split\nfrom sklearn.linear_model import SGDRegressor\nfrom sklearn.metrics import mean_squared_error\nfrom scipy.spatial import distance\n\nsgd_regressor = SGDRegressor(learning_rate='constant', eta0=0.015, fit_intercept=True, random_state=42)\nw_current, epsilon = np.random.random(2), 0.0001\nweight_evolution, mse_evolution = [], [] # изменения весов и ошибка на валидации\nfor step in list(range(800)):\n    sgd_regressor = sgd_regressor.partial_fit(X_train, y_train)\n    weight_evolution.append(distance.euclidean(w_current, sgd_regressor.coef_))\n    if weight_evolution[-1]<epsilon:\n        print(\"Итарации остановлены на шаге %d\" % step); break\n    mse = mean_squared_error(y_valid, sgd_regressor.predict(X_valid))\n    mse_evolution.append(mse)\n    w_current = sgd_regressor.coef_.copy()\n    \nprint(\"Лучший MSE = %.2f\" % mse)\nplt.plot(range(step), mse_evolution)\n",
      "metadata": {
        "id": "akuDd04HvkYh",
        "trusted": true
      },
      "outputs": [
        {
          "name": "stdout",
          "text": "Итарации остановлены на шаге 100\nЛучший MSE = 0.36\n",
          "output_type": "stream"
        },
        {
          "execution_count": 17,
          "output_type": "execute_result",
          "data": {
            "text/plain": "[<matplotlib.lines.Line2D at 0xaa4bab0>]"
          },
          "metadata": {}
        },
        {
          "output_type": "display_data",
          "data": {
            "text/plain": "<Figure size 640x480 with 1 Axes>",
            "image/png": "[encoded data removed]"
          },
          "metadata": {}
        }
      ],
      "execution_count": 17
    },
    {
      "cell_type": "markdown",
      "source": "Визуализируем решение на графике",
      "metadata": {
        "id": "ljDdmg4EvkYj"
      }
    },
    {
      "cell_type": "code",
      "source": "x_linspace = np.linspace(data['x_train'].min(), data['x_train'].max(), num=100)\n\ny_linspace= sgd_regressor.predict(x_linspace.reshape(-1,1))\n\nplt.plot(x_linspace, y_linspace)\nplt.scatter(data.x_train, data.y_train, 40, 'g', 'o', alpha=0.8, label='data')\n\nplt.show()",
      "metadata": {
        "id": "yUsq1gkSvkYk",
        "outputId": "842ba4f9-4bc3-4bc0-9b68-73d45e5095c0",
        "trusted": true
      },
      "outputs": [],
      "execution_count": null
    },
    {
      "cell_type": "markdown",
      "source": "Готово! Мы получили решение задачи линейной регрессии, обучив параметры линейной регресии небольшими \"шажками\". Мы не использовали сложных матричных вычислений - тем не менее получили линию регрессии, которая лежит в середине облака точек. Когда стоит использовать градиентный спуск в реальных задачах?\n\n* когда данных очень много - в этом случае компьютер может не справится с перемножением матриц\n* когда нужно контролировать точность обучения - остановить итерации можно в любой момент (не дожидаясь, пока дойдем до \"идеальных\" значений)\n\nКогда не стоит применять градиентный спуск? Когда данных мало - в этом случае лучше воспользоваться классами *Ridge* и *Lasso*.",
      "metadata": {
        "id": "14iSy19WvkYm"
      }
    }
  ]
}